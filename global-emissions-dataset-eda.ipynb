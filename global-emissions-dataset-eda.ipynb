{
 "cells": [
  {
   "cell_type": "markdown",
   "id": "588fb2d0",
   "metadata": {
    "papermill": {
     "duration": 0.007075,
     "end_time": "2024-11-29T15:12:39.868825",
     "exception": false,
     "start_time": "2024-11-29T15:12:39.861750",
     "status": "completed"
    },
    "tags": []
   },
   "source": [
    "# Global Emissions Dataset EDA"
   ]
  },
  {
   "cell_type": "markdown",
   "id": "3f3cb726",
   "metadata": {
    "papermill": {
     "duration": 0.00588,
     "end_time": "2024-11-29T15:12:39.881156",
     "exception": false,
     "start_time": "2024-11-29T15:12:39.875276",
     "status": "completed"
    },
    "tags": []
   },
   "source": [
    "# About the Dataset"
   ]
  },
  {
   "cell_type": "markdown",
   "id": "1e047335",
   "metadata": {
    "papermill": {
     "duration": 0.005925,
     "end_time": "2024-11-29T15:12:39.893504",
     "exception": false,
     "start_time": "2024-11-29T15:12:39.887579",
     "status": "completed"
    },
    "tags": []
   },
   "source": [
    "**Details about the columns:**\n",
    "1. region: Geographical region.\n",
    "2. country: Country of emission.\n",
    "3. emissions: Methane emissions (in kilotons).\n",
    "4. type: Sector from which emissions occur.\n",
    "5. segment: Sub-sector from which emissions occur.\n",
    "6. reason: Reason for the emission.\n",
    "7. baseYear: Base year for tracking emissions.\n",
    "8. notes: Additional information or source of data."
   ]
  },
  {
   "cell_type": "markdown",
   "id": "6866da90",
   "metadata": {
    "papermill": {
     "duration": 0.005777,
     "end_time": "2024-11-29T15:12:39.905421",
     "exception": false,
     "start_time": "2024-11-29T15:12:39.899644",
     "status": "completed"
    },
    "tags": []
   },
   "source": [
    "# Exploratory Questions for Sustainability Analysis"
   ]
  },
  {
   "cell_type": "markdown",
   "id": "692e0111",
   "metadata": {
    "papermill": {
     "duration": 0.00616,
     "end_time": "2024-11-29T15:12:39.918581",
     "exception": false,
     "start_time": "2024-11-29T15:12:39.912421",
     "status": "completed"
    },
    "tags": []
   },
   "source": [
    "**Regional Insights:**\n",
    "\n",
    "Which region has the highest total methane emissions?\n",
    "\n",
    "How do methane emissions vary across regions?\n",
    "\n",
    "**Country-Level Analysis:**\n",
    "\n",
    "Which country emits the highest and lowest methane?\n",
    "\n",
    "What are the top 5 countries contributing to global methane emissions?\n",
    "\n",
    "**Sectoral Breakdown:**\n",
    "\n",
    "Which sector contributes the most/least to methane emissions?\n",
    "\n",
    "How are emissions distributed across sectors in high-emission countries?\n",
    "\n",
    "**Trends and Patterns:**\n",
    "\n",
    "Are there correlations between specific segments and reasons for emissions?\n",
    "\n",
    "**Sub-Sector and Reason:**\n",
    "\n",
    "What are the most common reasons for methane emissions?\n",
    "\n",
    "Which sub-sector has the largest emissions globally?"
   ]
  },
  {
   "cell_type": "code",
   "execution_count": 1,
   "id": "06cb0643",
   "metadata": {
    "execution": {
     "iopub.execute_input": "2024-11-29T15:12:39.932887Z",
     "iopub.status.busy": "2024-11-29T15:12:39.932498Z",
     "iopub.status.idle": "2024-11-29T15:12:42.473798Z",
     "shell.execute_reply": "2024-11-29T15:12:42.472762Z"
    },
    "jupyter": {
     "source_hidden": true
    },
    "papermill": {
     "duration": 2.55159,
     "end_time": "2024-11-29T15:12:42.476380",
     "exception": false,
     "start_time": "2024-11-29T15:12:39.924790",
     "status": "completed"
    },
    "tags": []
   },
   "outputs": [],
   "source": [
    "#Import necessary libraries\n",
    "import pandas as pd\n",
    "import matplotlib.pyplot as plt\n",
    "import seaborn as sns"
   ]
  },
  {
   "cell_type": "code",
   "execution_count": 2,
   "id": "3f679662",
   "metadata": {
    "execution": {
     "iopub.execute_input": "2024-11-29T15:12:42.490730Z",
     "iopub.status.busy": "2024-11-29T15:12:42.490177Z",
     "iopub.status.idle": "2024-11-29T15:12:42.524808Z",
     "shell.execute_reply": "2024-11-29T15:12:42.523525Z"
    },
    "jupyter": {
     "source_hidden": true
    },
    "papermill": {
     "duration": 0.044684,
     "end_time": "2024-11-29T15:12:42.527471",
     "exception": false,
     "start_time": "2024-11-29T15:12:42.482787",
     "status": "completed"
    },
    "tags": []
   },
   "outputs": [],
   "source": [
    "#Load the dataset\n",
    "data = pd.read_csv('/kaggle/input/global-methane-emissions/Methane_final.csv')"
   ]
  },
  {
   "cell_type": "markdown",
   "id": "93978d1c",
   "metadata": {
    "papermill": {
     "duration": 0.00707,
     "end_time": "2024-11-29T15:12:42.541268",
     "exception": false,
     "start_time": "2024-11-29T15:12:42.534198",
     "status": "completed"
    },
    "tags": []
   },
   "source": [
    "# Clean & Prepare Data"
   ]
  },
  {
   "cell_type": "markdown",
   "id": "37c17978",
   "metadata": {
    "papermill": {
     "duration": 0.005843,
     "end_time": "2024-11-29T15:12:42.553268",
     "exception": false,
     "start_time": "2024-11-29T15:12:42.547425",
     "status": "completed"
    },
    "tags": []
   },
   "source": [
    "Heres a step by step break down of the cleaning process on this dataset:"
   ]
  },
  {
   "cell_type": "code",
   "execution_count": 3,
   "id": "1ca5a8bb",
   "metadata": {
    "execution": {
     "iopub.execute_input": "2024-11-29T15:12:42.566980Z",
     "iopub.status.busy": "2024-11-29T15:12:42.566565Z",
     "iopub.status.idle": "2024-11-29T15:12:42.572349Z",
     "shell.execute_reply": "2024-11-29T15:12:42.571302Z"
    },
    "jupyter": {
     "source_hidden": true
    },
    "papermill": {
     "duration": 0.016052,
     "end_time": "2024-11-29T15:12:42.575324",
     "exception": false,
     "start_time": "2024-11-29T15:12:42.559272",
     "status": "completed"
    },
    "tags": []
   },
   "outputs": [
    {
     "name": "stdout",
     "output_type": "stream",
     "text": [
      "Index(['Unnamed: 0', 'region', 'country', 'emissions', 'type', 'segment',\n",
      "       'reason', 'baseYear', 'notes'],\n",
      "      dtype='object')\n"
     ]
    }
   ],
   "source": [
    "#First get an index of columns to see what you're working with\n",
    "print(data.columns)\n"
   ]
  },
  {
   "cell_type": "code",
   "execution_count": 4,
   "id": "8a5dd2aa",
   "metadata": {
    "execution": {
     "iopub.execute_input": "2024-11-29T15:12:42.589589Z",
     "iopub.status.busy": "2024-11-29T15:12:42.589256Z",
     "iopub.status.idle": "2024-11-29T15:12:42.604637Z",
     "shell.execute_reply": "2024-11-29T15:12:42.603547Z"
    },
    "jupyter": {
     "source_hidden": true
    },
    "papermill": {
     "duration": 0.025199,
     "end_time": "2024-11-29T15:12:42.607020",
     "exception": false,
     "start_time": "2024-11-29T15:12:42.581821",
     "status": "completed"
    },
    "tags": []
   },
   "outputs": [],
   "source": [
    "#Use drop operation to remove 'Unnamed: 0':\n",
    "data = data.drop(columns=['Unnamed: 0'])\n"
   ]
  },
  {
   "cell_type": "code",
   "execution_count": 5,
   "id": "c2065e01",
   "metadata": {
    "execution": {
     "iopub.execute_input": "2024-11-29T15:12:42.621599Z",
     "iopub.status.busy": "2024-11-29T15:12:42.621168Z",
     "iopub.status.idle": "2024-11-29T15:12:42.626982Z",
     "shell.execute_reply": "2024-11-29T15:12:42.625951Z"
    },
    "jupyter": {
     "source_hidden": true
    },
    "papermill": {
     "duration": 0.01616,
     "end_time": "2024-11-29T15:12:42.629595",
     "exception": false,
     "start_time": "2024-11-29T15:12:42.613435",
     "status": "completed"
    },
    "tags": []
   },
   "outputs": [
    {
     "name": "stdout",
     "output_type": "stream",
     "text": [
      "Index(['region', 'country', 'emissions', 'type', 'segment', 'reason',\n",
      "       'baseYear', 'notes'],\n",
      "      dtype='object')\n"
     ]
    }
   ],
   "source": [
    "#Verify it was dropped sucessfully\n",
    "print(data.columns)\n"
   ]
  },
  {
   "cell_type": "code",
   "execution_count": 6,
   "id": "98cde91a",
   "metadata": {
    "execution": {
     "iopub.execute_input": "2024-11-29T15:12:42.645721Z",
     "iopub.status.busy": "2024-11-29T15:12:42.645350Z",
     "iopub.status.idle": "2024-11-29T15:12:42.689386Z",
     "shell.execute_reply": "2024-11-29T15:12:42.688106Z"
    },
    "jupyter": {
     "source_hidden": true
    },
    "papermill": {
     "duration": 0.054408,
     "end_time": "2024-11-29T15:12:42.691886",
     "exception": false,
     "start_time": "2024-11-29T15:12:42.637478",
     "status": "completed"
    },
    "tags": []
   },
   "outputs": [],
   "source": [
    "#Normalize text columns\n",
    "#text_columns: This is a list of column names in the dataset that contain text\n",
    "text_columns = ['region', 'country', 'type', 'segment', 'reason', 'notes']\n",
    "\n",
    "#data[text_columns]: Select those specific columns in the DataFrame for processing\n",
    "#apply(lambda x: ...): This applies a transformation to each column in the list\n",
    "#x.str.strip(): Removes any extra spaces at the beginning or end of each text value\n",
    "data[text_columns] = data[text_columns].apply(lambda x: x.str.strip().str.title())\n",
    "\n",
    "#Convert 'baseYear' to datetime format with error handling\n",
    "data['baseYear'] = pd.to_datetime(data['baseYear'], format='%Y', errors='coerce')\n",
    "\n",
    "#Handle missing values in 'baseYear'\n",
    "data['baseYear'] = data['baseYear'].fillna(pd.NaT)  # Use NaT for missing dates\n",
    "\n",
    "#Optional: Replace NaT with 'Unknown' if necessary\n",
    "data['baseYear'] = data['baseYear'].fillna('Unknown').astype('object')\n"
   ]
  },
  {
   "cell_type": "markdown",
   "id": "ddfbb228",
   "metadata": {
    "papermill": {
     "duration": 0.006124,
     "end_time": "2024-11-29T15:12:42.704438",
     "exception": false,
     "start_time": "2024-11-29T15:12:42.698314",
     "status": "completed"
    },
    "tags": []
   },
   "source": [
    "# Total Methane Emissions by Region"
   ]
  },
  {
   "cell_type": "code",
   "execution_count": 7,
   "id": "60d6fceb",
   "metadata": {
    "execution": {
     "iopub.execute_input": "2024-11-29T15:12:42.719225Z",
     "iopub.status.busy": "2024-11-29T15:12:42.718565Z",
     "iopub.status.idle": "2024-11-29T15:12:43.047323Z",
     "shell.execute_reply": "2024-11-29T15:12:43.046216Z"
    },
    "jupyter": {
     "source_hidden": true
    },
    "papermill": {
     "duration": 0.338893,
     "end_time": "2024-11-29T15:12:43.049764",
     "exception": false,
     "start_time": "2024-11-29T15:12:42.710871",
     "status": "completed"
    },
    "tags": []
   },
   "outputs": [
    {
     "data": {
      "image/png": "[encoded data removed]",
      "text/plain": [
       "<Figure size 1000x600 with 1 Axes>"
      ]
     },
     "metadata": {},
     "output_type": "display_data"
    }
   ],
   "source": [
    "#Plotting total emissions by region\n",
    "regional_emissions = data.groupby('region')['emissions'].sum().sort_values(ascending=False)\n",
    "\n",
    "plt.figure(figsize=(10, 6))\n",
    "sns.barplot(x=regional_emissions.values, y=regional_emissions.index, palette=\"viridis\")\n",
    "plt.title(\"Total Methane Emissions by Region\", fontsize=16)\n",
    "plt.xlabel(\"Emissions (kt)\", fontsize=12)\n",
    "plt.ylabel(\"Region\", fontsize=12)\n",
    "plt.show()\n"
   ]
  },
  {
   "cell_type": "markdown",
   "id": "6c0141f4",
   "metadata": {
    "papermill": {
     "duration": 0.006565,
     "end_time": "2024-11-29T15:12:43.063725",
     "exception": false,
     "start_time": "2024-11-29T15:12:43.057160",
     "status": "completed"
    },
    "tags": []
   },
   "source": [
    "**Which region has the highest total methane emissions?** Asia Pacific Region has the highest Emissions (kt).\n",
    "\n",
    "\n",
    "**How do methane emissions vary across regions?** Methane emissions vary significantly across regions, with higher emissions typically observed in areas with extensive agriculture and/or energy. Regions with less industrial activity or natural methane sources tend to have lower emissions.\n"
   ]
  },
  {
   "cell_type": "code",
   "execution_count": 8,
   "id": "cc9bc5b2",
   "metadata": {
    "execution": {
     "iopub.execute_input": "2024-11-29T15:12:43.079912Z",
     "iopub.status.busy": "2024-11-29T15:12:43.079513Z",
     "iopub.status.idle": "2024-11-29T15:12:43.094672Z",
     "shell.execute_reply": "2024-11-29T15:12:43.093491Z"
    },
    "jupyter": {
     "source_hidden": true
    },
    "papermill": {
     "duration": 0.026137,
     "end_time": "2024-11-29T15:12:43.097268",
     "exception": false,
     "start_time": "2024-11-29T15:12:43.071131",
     "status": "completed"
    },
    "tags": []
   },
   "outputs": [
    {
     "name": "stdout",
     "output_type": "stream",
     "text": [
      "Region with highest 'Energy' emissions: Asia Pacific (83240.17148713674 emissions)\n",
      "Region with highest 'Agriculture' emissions: Asia Pacific (63241.49348646402 emissions)\n"
     ]
    }
   ],
   "source": [
    "#Just to show my work a bit more I want to filter data for 'Energy' and 'Agriculture' because as you will see they give off the highest emissions globally.\n",
    "\n",
    "# Exclude 'World' from the dataset\n",
    "data_without_world = data[data['region'] != 'World']\n",
    "\n",
    "# Filter data for 'Energy' and 'Agriculture' types (after dropping 'World')\n",
    "energy_data = data_without_world[data_without_world['type'] == 'Energy']\n",
    "agriculture_data = data_without_world[data_without_world['type'] == 'Agriculture']\n",
    "\n",
    "# Group by 'region' and sum emissions for 'Energy'\n",
    "energy_by_region = energy_data.groupby('region')['emissions'].sum()\n",
    "\n",
    "# Group by 'region' and sum emissions for 'Agriculture'\n",
    "agriculture_by_region = agriculture_data.groupby('region')['emissions'].sum()\n",
    "\n",
    "# Find the regions with the highest emissions\n",
    "top_energy_region = energy_by_region.idxmax()\n",
    "top_energy_value = energy_by_region.max()\n",
    "\n",
    "top_agriculture_region = agriculture_by_region.idxmax()\n",
    "top_agriculture_value = agriculture_by_region.max()\n",
    "\n",
    "# Display the results\n",
    "print(f\"Region with highest 'Energy' emissions: {top_energy_region} ({top_energy_value} emissions)\")\n",
    "print(f\"Region with highest 'Agriculture' emissions: {top_agriculture_region} ({top_agriculture_value} emissions)\")\n"
   ]
  },
  {
   "cell_type": "markdown",
   "id": "cac7013f",
   "metadata": {
    "papermill": {
     "duration": 0.00742,
     "end_time": "2024-11-29T15:12:43.111943",
     "exception": false,
     "start_time": "2024-11-29T15:12:43.104523",
     "status": "completed"
    },
    "tags": []
   },
   "source": [
    "# Top 5 and Bottom 5 Emitting Countries"
   ]
  },
  {
   "cell_type": "code",
   "execution_count": 9,
   "id": "cf35c18c",
   "metadata": {
    "execution": {
     "iopub.execute_input": "2024-11-29T15:12:43.128609Z",
     "iopub.status.busy": "2024-11-29T15:12:43.127760Z",
     "iopub.status.idle": "2024-11-29T15:12:43.141009Z",
     "shell.execute_reply": "2024-11-29T15:12:43.139680Z"
    },
    "jupyter": {
     "source_hidden": true
    },
    "papermill": {
     "duration": 0.024194,
     "end_time": "2024-11-29T15:12:43.143446",
     "exception": false,
     "start_time": "2024-11-29T15:12:43.119252",
     "status": "completed"
    },
    "tags": []
   },
   "outputs": [
    {
     "name": "stdout",
     "output_type": "stream",
     "text": [
      "Top 5 Emitting Countries:\n",
      "country\n",
      "China            81048.371586\n",
      "United States    48604.877296\n",
      "Russia           42432.929804\n",
      "India            34852.007386\n",
      "Brazil           21720.838126\n",
      "Name: emissions, dtype: float64\n",
      "\n",
      "Bottom 5 Emitting Countries:\n",
      "country\n",
      "Guinea-Bissau    87.772880\n",
      "Slovenia         83.387466\n",
      "Gambia           47.587691\n",
      "Liberia          43.897755\n",
      "Seychelles        2.621898\n",
      "Name: emissions, dtype: float64\n"
     ]
    }
   ],
   "source": [
    "#Exclude 'World' from the dataset\n",
    "data_without_world = data[data['country'] != 'World']\n",
    "\n",
    "#Group by 'country' and sum emissions\n",
    "country_emissions = data_without_world.groupby('country')['emissions'].sum().sort_values(ascending=False)\n",
    "\n",
    "#Extracting Top 5 and Bottom 5 Countries\n",
    "top_5_countries = country_emissions.head(5)\n",
    "bottom_5_countries = country_emissions.tail(5)\n",
    "\n",
    "#Print results\n",
    "print(\"Top 5 Emitting Countries:\")\n",
    "print(top_5_countries)\n",
    "\n",
    "print(\"\\nBottom 5 Emitting Countries:\")\n",
    "print(bottom_5_countries)\n"
   ]
  },
  {
   "cell_type": "markdown",
   "id": "ceb552e7",
   "metadata": {
    "papermill": {
     "duration": 0.006725,
     "end_time": "2024-11-29T15:12:43.157587",
     "exception": false,
     "start_time": "2024-11-29T15:12:43.150862",
     "status": "completed"
    },
    "tags": []
   },
   "source": [
    "**Which country emits the highest and lowest methane?** The highest emissions is China and the lowest is Seychelles.\n",
    "\n",
    "**What are the top 5 countries contributing to global methane emissions?** China, United States, Russia, India and Brazil are the top 5 contributors to global methane emissions.\n"
   ]
  },
  {
   "cell_type": "markdown",
   "id": "c9adaefe",
   "metadata": {
    "papermill": {
     "duration": 0.007009,
     "end_time": "2024-11-29T15:12:43.171731",
     "exception": false,
     "start_time": "2024-11-29T15:12:43.164722",
     "status": "completed"
    },
    "tags": []
   },
   "source": [
    "# Methane Emissions by Sector"
   ]
  },
  {
   "cell_type": "code",
   "execution_count": 10,
   "id": "568daaca",
   "metadata": {
    "execution": {
     "iopub.execute_input": "2024-11-29T15:12:43.188014Z",
     "iopub.status.busy": "2024-11-29T15:12:43.187584Z",
     "iopub.status.idle": "2024-11-29T15:12:43.427321Z",
     "shell.execute_reply": "2024-11-29T15:12:43.426025Z"
    },
    "jupyter": {
     "source_hidden": true
    },
    "papermill": {
     "duration": 0.250943,
     "end_time": "2024-11-29T15:12:43.429947",
     "exception": false,
     "start_time": "2024-11-29T15:12:43.179004",
     "status": "completed"
    },
    "tags": []
   },
   "outputs": [
    {
     "data": {
      "image/png": "[encoded data removed]",
      "text/plain": [
       "<Figure size 1000x600 with 1 Axes>"
      ]
     },
     "metadata": {},
     "output_type": "display_data"
    }
   ],
   "source": [
    "#Plotting emissions by sector\n",
    "sector_emissions = data.groupby('type')['emissions'].sum().sort_values(ascending=False)\n",
    "\n",
    "plt.figure(figsize=(10, 6))\n",
    "sns.barplot(x=sector_emissions.values, y=sector_emissions.index, palette=\"coolwarm\")\n",
    "plt.title(\"Methane Emissions by Sector\", fontsize=16)\n",
    "plt.xlabel(\"Emissions (kt)\", fontsize=12)\n",
    "plt.ylabel(\"Sector\", fontsize=12)\n",
    "plt.show()"
   ]
  },
  {
   "cell_type": "markdown",
   "id": "28ef7505",
   "metadata": {
    "papermill": {
     "duration": 0.007947,
     "end_time": "2024-11-29T15:12:43.446080",
     "exception": false,
     "start_time": "2024-11-29T15:12:43.438133",
     "status": "completed"
    },
    "tags": []
   },
   "source": [
    "**Which sector contributes the most/least to methane emissions?** The Energy section contributes to the most methane emissions and Other is the lowest contributer.\n",
    "\n",
    "**How are emissions distributed across sectors in high-emission countries?** Energy is the dominant sector contributing to emissions. For instance, China and India have the highest emissions in the Energy sector, while Agriculture is the largest contributor in Brazil and India. The Waste sector also contributes significantly, especially in countries like Brazil and the United States. \n",
    "\n",
    "This indicates that reducing emissions in these high-emission countries would require targeted efforts across multiple sectors, particularly Energy and Agriculture."
   ]
  },
  {
   "cell_type": "code",
   "execution_count": 11,
   "id": "6b82a6b3",
   "metadata": {
    "execution": {
     "iopub.execute_input": "2024-11-29T15:12:43.464912Z",
     "iopub.status.busy": "2024-11-29T15:12:43.463470Z",
     "iopub.status.idle": "2024-11-29T15:12:43.498630Z",
     "shell.execute_reply": "2024-11-29T15:12:43.495180Z"
    },
    "jupyter": {
     "source_hidden": true
    },
    "papermill": {
     "duration": 0.048239,
     "end_time": "2024-11-29T15:12:43.502324",
     "exception": false,
     "start_time": "2024-11-29T15:12:43.454085",
     "status": "completed"
    },
    "tags": []
   },
   "outputs": [
    {
     "name": "stdout",
     "output_type": "stream",
     "text": [
      "Emissions Distribution Across Sectors in High-Emission Countries:\n",
      "type            Agriculture        Energy        Other         Waste\n",
      "country                                                             \n",
      "Brazil         14020.088867   3512.990745   387.701385   3800.057129\n",
      "China          18501.914062  50744.444950  1377.870972  10424.141602\n",
      "India          18358.517578  10370.472352   571.256714   5551.760742\n",
      "Russia          2022.095947  36156.167841   323.421631   3931.244385\n",
      "United States   9409.325195  33539.261269   538.362610   5117.928223\n"
     ]
    }
   ],
   "source": [
    "#Showing the sector distribution in a table\n",
    "\n",
    "#Exclude 'World' from the dataset because it is not a country\n",
    "data_without_world = data[data['country'] != 'World']\n",
    "\n",
    "#Group by 'country' and sum emissions to identify high-emission countries\n",
    "country_emissions = data_without_world.groupby('country')['emissions'].sum().sort_values(ascending=False)\n",
    "\n",
    "#Extract the top 5 high-emission countries\n",
    "top_5_countries = country_emissions.head(5)\n",
    "\n",
    "#Filter the dataset for these high-emission countries\n",
    "high_emission_countries_data = data_without_world[data_without_world['country'].isin(top_5_countries.index)]\n",
    "\n",
    "#Group by 'country' and 'type' to see how emissions are distributed across sectors\n",
    "sector_distribution = high_emission_countries_data.groupby(['country', 'type'])['emissions'].sum().unstack().fillna(0)\n",
    "\n",
    "#Print the sector distribution for high-emission countries\n",
    "print(\"Emissions Distribution Across Sectors in High-Emission Countries:\")\n",
    "print(sector_distribution)\n"
   ]
  },
  {
   "cell_type": "markdown",
   "id": "f54bedd7",
   "metadata": {
    "papermill": {
     "duration": 0.010346,
     "end_time": "2024-11-29T15:12:43.525094",
     "exception": false,
     "start_time": "2024-11-29T15:12:43.514748",
     "status": "completed"
    },
    "tags": []
   },
   "source": [
    "# Trends and Patterns"
   ]
  },
  {
   "cell_type": "markdown",
   "id": "a957944f",
   "metadata": {
    "papermill": {
     "duration": 0.009251,
     "end_time": "2024-11-29T15:12:43.543337",
     "exception": false,
     "start_time": "2024-11-29T15:12:43.534086",
     "status": "completed"
    },
    "tags": []
   },
   "source": [
    "Definitions to help understand:\n",
    "\n",
    "\"All\" — This refers to the total emissions for each segment without distinguishing the reason.\n",
    "\n",
    "\"Flared\" — These emissions come from combustion processes where gases or other materials are burned off, typically from oil and gas facilities.\n",
    "\n",
    "\"Vented\" — These emissions involve releasing gases into the atmosphere without combustion, such as from gas pipelines or facilities for liquefied natural gas (LNG).\n",
    "\n",
    "\"Fugitive\" — Emissions that occur unintentionally, such as from leaks in equipment or pipelines.\n"
   ]
  },
  {
   "cell_type": "markdown",
   "id": "f9b34610",
   "metadata": {
    "papermill": {
     "duration": 0.007535,
     "end_time": "2024-11-29T15:12:43.559249",
     "exception": false,
     "start_time": "2024-11-29T15:12:43.551714",
     "status": "completed"
    },
    "tags": []
   },
   "source": [
    "**Are there correlations between specific segments and reasons for emissions?** Yes, certain activities are linked to specific types of methane emissions. For instance, \"Steam Coal\" produces the most overall emissions, while \"Offshore Oil\" and \"Onshore Oil\" create the most methane from burning gas, and \"Gas Pipelines and LNG Facilities\" lead to the highest amount of methane released intentionally."
   ]
  },
  {
   "cell_type": "markdown",
   "id": "71ad739a",
   "metadata": {
    "papermill": {
     "duration": 0.007521,
     "end_time": "2024-11-29T15:12:43.574400",
     "exception": false,
     "start_time": "2024-11-29T15:12:43.566879",
     "status": "completed"
    },
    "tags": []
   },
   "source": [
    "The dataset shows how emissions are categorized based on different segments (e.g., Bioenergy, Coking Coal, Gas Pipelines, etc.) and the reasons for emissions (like Flared, Fugitive, Vented)."
   ]
  },
  {
   "cell_type": "code",
   "execution_count": 12,
   "id": "b19de314",
   "metadata": {
    "execution": {
     "iopub.execute_input": "2024-11-29T15:12:43.593024Z",
     "iopub.status.busy": "2024-11-29T15:12:43.592473Z",
     "iopub.status.idle": "2024-11-29T15:12:43.607498Z",
     "shell.execute_reply": "2024-11-29T15:12:43.606252Z"
    },
    "jupyter": {
     "source_hidden": true
    },
    "papermill": {
     "duration": 0.027189,
     "end_time": "2024-11-29T15:12:43.610072",
     "exception": false,
     "start_time": "2024-11-29T15:12:43.582883",
     "status": "completed"
    },
    "tags": []
   },
   "outputs": [
    {
     "name": "stdout",
     "output_type": "stream",
     "text": [
      "Correlation Between Segments and Reasons for Emissions:\n",
      "reason                                                    All        Flared  \\\n",
      "segment                                                                       \n",
      "Bioenergy                                        19134.448077      0.000000   \n",
      "Coking Coal                                      20323.058074      0.000000   \n",
      "Gas Pipelines And Lng Facilities                     0.000000      0.000000   \n",
      "Offshore Gas                                         0.000000      0.000000   \n",
      "Offshore Oil                                         0.000000   2613.990598   \n",
      "Onshore Gas                                          0.000000      0.000000   \n",
      "Onshore Oil                                          0.000000  12757.423631   \n",
      "Other From Coal                                   3217.824070      0.000000   \n",
      "Other From Oil And Gas                            4785.509486      0.000000   \n",
      "Satellite-Detected Large Oil And Gas Emissions    6208.900007      0.000000   \n",
      "Steam Coal                                       60343.773344      0.000000   \n",
      "Total                                           727062.091171      0.000000   \n",
      "\n",
      "reason                                              Fugitive        Vented  \n",
      "segment                                                                     \n",
      "Bioenergy                                           0.000000      0.000000  \n",
      "Coking Coal                                         0.000000      0.000000  \n",
      "Gas Pipelines And Lng Facilities                16045.283727   8555.360117  \n",
      "Offshore Gas                                     2740.191121   5945.645597  \n",
      "Offshore Oil                                      973.650470  13191.108671  \n",
      "Onshore Gas                                     11374.466502  24680.200895  \n",
      "Onshore Oil                                      3836.055079  51971.264491  \n",
      "Other From Coal                                     0.000000      0.000000  \n",
      "Other From Oil And Gas                              0.000000      0.000000  \n",
      "Satellite-Detected Large Oil And Gas Emissions      0.000000      0.000000  \n",
      "Steam Coal                                          0.000000      0.000000  \n",
      "Total                                               0.000000      0.000000  \n"
     ]
    }
   ],
   "source": [
    "#Group by 'segment' and 'reason' and sum emissions\n",
    "correlation_data = data.groupby(['segment', 'reason'])['emissions'].sum().unstack().fillna(0)\n",
    "\n",
    "#Display the results\n",
    "print(\"Correlation Between Segments and Reasons for Emissions:\")\n",
    "print(correlation_data)\n"
   ]
  },
  {
   "cell_type": "markdown",
   "id": "c03f4a45",
   "metadata": {
    "papermill": {
     "duration": 0.007528,
     "end_time": "2024-11-29T15:12:43.625641",
     "exception": false,
     "start_time": "2024-11-29T15:12:43.618113",
     "status": "completed"
    },
    "tags": []
   },
   "source": [
    "# Sub-Sector and Reason"
   ]
  },
  {
   "cell_type": "markdown",
   "id": "c847c6aa",
   "metadata": {
    "papermill": {
     "duration": 0.007919,
     "end_time": "2024-11-29T15:12:43.641295",
     "exception": false,
     "start_time": "2024-11-29T15:12:43.633376",
     "status": "completed"
    },
    "tags": []
   },
   "source": [
    "**What are the most common reasons for methane emissions?** The most common reasons for methane emissions in the dataset are \"All,\" which occurs 746 times, followed by \"Fugitive\" and \"Vented,\" both occurring 342 times, and \"Flared,\" which occurs 118 times.\n"
   ]
  },
  {
   "cell_type": "code",
   "execution_count": 13,
   "id": "b88f6222",
   "metadata": {
    "execution": {
     "iopub.execute_input": "2024-11-29T15:12:43.666777Z",
     "iopub.status.busy": "2024-11-29T15:12:43.665919Z",
     "iopub.status.idle": "2024-11-29T15:12:43.675257Z",
     "shell.execute_reply": "2024-11-29T15:12:43.673917Z"
    },
    "jupyter": {
     "source_hidden": true
    },
    "papermill": {
     "duration": 0.028356,
     "end_time": "2024-11-29T15:12:43.677865",
     "exception": false,
     "start_time": "2024-11-29T15:12:43.649509",
     "status": "completed"
    },
    "tags": []
   },
   "outputs": [
    {
     "name": "stdout",
     "output_type": "stream",
     "text": [
      "Most Common Reasons for Methane Emissions:\n",
      "reason\n",
      "All         746\n",
      "Fugitive    342\n",
      "Vented      342\n",
      "Flared      118\n",
      "Name: count, dtype: int64\n"
     ]
    }
   ],
   "source": [
    "#Count the occurrences of each reason for emissions\n",
    "common_reasons = data['reason'].value_counts()\n",
    "\n",
    "#Display the most common reasons for methane emissions\n",
    "print(\"Most Common Reasons for Methane Emissions:\")\n",
    "print(common_reasons)\n"
   ]
  },
  {
   "cell_type": "markdown",
   "id": "14f5fb15",
   "metadata": {
    "papermill": {
     "duration": 0.007845,
     "end_time": "2024-11-29T15:12:43.693820",
     "exception": false,
     "start_time": "2024-11-29T15:12:43.685975",
     "status": "completed"
    },
    "tags": []
   },
   "source": [
    "**Which sub-sector has the largest emissions globally?** \n",
    "The sub-sector with the largest emissions globally is: Energy\r\n"
   ]
  },
  {
   "cell_type": "code",
   "execution_count": 14,
   "id": "a0189164",
   "metadata": {
    "execution": {
     "iopub.execute_input": "2024-11-29T15:12:43.711885Z",
     "iopub.status.busy": "2024-11-29T15:12:43.711333Z",
     "iopub.status.idle": "2024-11-29T15:12:43.721166Z",
     "shell.execute_reply": "2024-11-29T15:12:43.719852Z"
    },
    "jupyter": {
     "source_hidden": true
    },
    "papermill": {
     "duration": 0.022274,
     "end_time": "2024-11-29T15:12:43.724168",
     "exception": false,
     "start_time": "2024-11-29T15:12:43.701894",
     "status": "completed"
    },
    "tags": []
   },
   "outputs": [
    {
     "name": "stdout",
     "output_type": "stream",
     "text": [
      "The sub-sector with the largest emissions globally is: Energy\n"
     ]
    }
   ],
   "source": [
    "#Group by 'type' (sub-sector) and sum emissions to find the largest emitting sector\n",
    "global_emissions_by_subsector = data.groupby('type')['emissions'].sum()\n",
    "\n",
    "#Find the sub-sector with the largest emissions\n",
    "largest_subsector = global_emissions_by_subsector.idxmax()\n",
    "\n",
    "#Display the sub-sector with the largest emissions\n",
    "print(f\"The sub-sector with the largest emissions globally is: {largest_subsector}\")\n"
   ]
  }
 ],
 "metadata": {
  "kaggle": {
   "accelerator": "none",
   "dataSources": [
    {
     "datasetId": 3052452,
     "sourceId": 5245975,
     "sourceType": "datasetVersion"
    }
   ],
   "dockerImageVersionId": 30786,
   "isGpuEnabled": false,
   "isInternetEnabled": false,
   "language": "python",
   "sourceType": "notebook"
  },
  "kernelspec": {
   "display_name": "Python 3",
   "language": "python",
   "name": "python3"
  },
  "language_info": {
   "codemirror_mode": {
    "name": "ipython",
    "version": 3
   },
   "file_extension": ".py",
   "mimetype": "text/x-python",
   "name": "python",
   "nbconvert_exporter": "python",
   "pygments_lexer": "ipython3",
   "version": "3.10.14"
  },
  "papermill": {
   "default_parameters": {},
   "duration": 7.208365,
   "end_time": "2024-11-29T15:12:44.356977",
   "environment_variables": {},
   "exception": null,
   "input_path": "__notebook__.ipynb",
   "output_path": "__notebook__.ipynb",
   "parameters": {},
   "start_time": "2024-11-29T15:12:37.148612",
   "version": "2.6.0"
  }
 },
 "nbformat": 4,
 "nbformat_minor": 5
}
